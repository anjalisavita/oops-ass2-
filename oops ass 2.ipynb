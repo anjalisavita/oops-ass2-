{
 "cells": [
  {
   "cell_type": "markdown",
   "id": "74d46718-2af1-488f-9937-21af9062bee3",
   "metadata": {},
   "source": [
    "# Q1. What is Abstraction in OOps? Explain with an example"
   ]
  },
  {
   "cell_type": "markdown",
   "id": "06e68d2f-966f-4cd4-a2a1-def164244112",
   "metadata": {},
   "source": [
    "# Abstraction in OOP: Abstraction is a fundamental concept in object-oriented programming that focuses on representing only the essential features without including the background details. It involves hiding the complex implementation while showing only the necessary features of an object. For instance, think of a car. You don't need to know how the engine works internally to drive a car; you just need to know how to operate the steering wheel, pedals, and gear shift."
   ]
  },
  {
   "cell_type": "code",
   "execution_count": 2,
   "id": "e6cdd4ce-7be2-42af-956f-1313b7c7ebff",
   "metadata": {},
   "outputs": [],
   "source": [
    "class Shape:\n",
    "    def area(self):\n",
    "        pass\n",
    "\n",
    "class Circle(Shape):\n",
    "    def __init__(self, radius):\n",
    "        self.radius = radius\n",
    "\n",
    "    def area(self):\n",
    "        return 3.14 * self.radius * self.radius\n"
   ]
  },
  {
   "cell_type": "markdown",
   "id": "3c240325-0fb1-4a7e-a5dc-3c67b481ab16",
   "metadata": {},
   "source": [
    "# Q2. Differentiate between Abstraction and Encapsulation. Explain with an example."
   ]
  },
  {
   "cell_type": "markdown",
   "id": "731b52ed-55ad-40c1-82a8-1e27e2bbd7d7",
   "metadata": {},
   "source": [
    "# Abstraction vs. Encapsulation:\n",
    "\n",
    "# Abstraction focuses on the behavior and properties of an object, showing only what's necessary for the user. It hides the internal details.\n",
    "# Encapsulation involves bundling the data (attributes) and the methods (functions) that operate on the data into a single unit, i.e., a class. It prevents direct access to some of the object's components and hides the internal state from the outside world.\n",
    "# Example:\n",
    "# Abstraction in the previous example is the Shape class, providing an abstract method area(). Encapsulation would be achieved by making the attributes of the Circle class (radius) private using Python's naming conventions (e.g., _radius), and providing methods to access or modify them indirectly."
   ]
  },
  {
   "cell_type": "markdown",
   "id": "d3980c3b-5d04-43d8-ba94-f5bdccd258c7",
   "metadata": {},
   "source": [
    "#  Q4. How can we achieve data abstraction?"
   ]
  },
  {
   "cell_type": "markdown",
   "id": "ba10932c-b846-493c-92dc-339c578c9e1c",
   "metadata": {},
   "source": [
    "# Achieving Data Abstraction:\n",
    "# Data abstraction can be achieved in programming by using abstract classes or interfaces. Abstract classes define methods that must be implemented by subclasses but may also contain implemented methods. Interfaces, on the other hand, only declare the method signatures without providing any implementation. By using these concepts, you can enforce the behavior of subclasses while hiding their internal workings."
   ]
  },
  {
   "cell_type": "markdown",
   "id": "0c799bfe-04f1-49b8-ae04-3acd4f1f94d3",
   "metadata": {},
   "source": [
    "# Q5. Can we create an instance of an abstract class? Explain your answer."
   ]
  },
  {
   "cell_type": "code",
   "execution_count": null,
   "id": "d66ae1a3-fa48-4c03-87ae-5b3a13429e43",
   "metadata": {},
   "outputs": [],
   "source": [
    "# "
   ]
  }
 ],
 "metadata": {
  "kernelspec": {
   "display_name": "Python 3 (ipykernel)",
   "language": "python",
   "name": "python3"
  },
  "language_info": {
   "codemirror_mode": {
    "name": "ipython",
    "version": 3
   },
   "file_extension": ".py",
   "mimetype": "text/x-python",
   "name": "python",
   "nbconvert_exporter": "python",
   "pygments_lexer": "ipython3",
   "version": "3.10.8"
  }
 },
 "nbformat": 4,
 "nbformat_minor": 5
}
